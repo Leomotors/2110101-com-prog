{
  "cells": [
    {
      "cell_type": "markdown",
      "metadata": {
        "id": "EsX9HcswkMhh"
      },
      "source": [
        "# Workshop 2.1 : web parsing with str functions\n",
        "We will crawl data from https://www.chula.ac.th/en/academics/faculties-and-schools/\n",
        "\n",
        "which is mirrored here https://comprogchula.github.io/\n",
        "\n",
        "<img src =\"https://github.com/Mixelon-tera/Workshop2_Datascraping_Resource/raw/master/source/intro_scraping.png\" width=\"800\">"
      ]
    },
    {
      "cell_type": "code",
      "execution_count": 1,
      "metadata": {
        "colab": {
          "base_uri": "https://localhost:8080/"
        },
        "id": "3pkX1wP3kMhi",
        "outputId": "12f2bbef-92c2-4448-e76e-3229b5a8caf2"
      },
      "outputs": [
        {
          "name": "stdout",
          "output_type": "stream",
          "text": [
            "/home/leomotors/github/Leomotors/2110101-com-prog/workshops/02-html\n"
          ]
        }
      ],
      "source": [
        "import urllib\n",
        "import urllib.request as urq\n",
        "import os\n",
        "\n",
        "dir_path = os.path.dirname(os.path.realpath(\"__file__\"))\n",
        "print(dir_path)"
      ]
    },
    {
      "cell_type": "markdown",
      "metadata": {
        "id": "F59BwNdMieQw"
      },
      "source": [
        "### Tip! \n",
        " \n",
        "#### สำหรับเรื่อง string ในภาษา python ต้องระวังเรื่อง escape character เรามักจะใช้เครื่องหมาย \\ นำหน้า escape character ดังนี้\n",
        "\n",
        "<img src=\"https://i2.wp.com/www.techpaste.com/wp-content/uploads/2014/06/Escape_Characters_Python.jpg?fit=441%2C425&ssl=1\" width=400>"
      ]
    },
    {
      "cell_type": "markdown",
      "metadata": {
        "id": "9a5vdLTmkMhl"
      },
      "source": [
        "# TO DO 1 : Crawl \"Faculty Name\" [only 19 faculties] (1%)"
      ]
    },
    {
      "cell_type": "markdown",
      "metadata": {
        "id": "UGZp9qD8kMhm"
      },
      "source": [
        "Print all Faculty name in Chulalongkorn University\n",
        "and print Number of Faculties like below image\n",
        "\n",
        "<img src=\"https://github.com/Mixelon-tera/Workshop2_Datascraping_Resource/raw/master/source/fac_name.png\" width=300>\n",
        "\n",
        "<img src=\"https://github.com/Mixelon-tera/Workshop2_Datascraping_Resource/raw/master/source/number_faculty.png\" width=300>"
      ]
    },
    {
      "cell_type": "code",
      "execution_count": 2,
      "metadata": {
        "id": "tF2I-cQFkMhn"
      },
      "outputs": [],
      "source": [
        "### บางเว็บไซต์เราไม่สามารถใช้ urlopen ได้ตรงๆ เนื่องจากเว็บมีการป้องกันไว้ วิธีการแก้เบื้องต้นคือการใส่ header เพื่อหลอกเว็บไซต์ว่าเรากำลังใช้เว็บในการ request ข้อมูลเพจ ###\n",
        "### แต่ในการบ้านวันนี้เราสามารถใส่ url ลงใน urlopen ได้ตรงๆเลย เพราะเว็บไม่ได้มีการป้องกันไว้ ###\n",
        "\n",
        "url = 'https://comprogchula.github.io/'\n",
        "html = str(urq.urlopen(url).read().decode('utf-8'))\n",
        "\n",
        "# ---- TO DO 1 : Code Here ----\n",
        "\n",
        "# print(html)\n",
        "\n",
        "\n",
        "\n",
        "\n",
        "\n",
        "\n",
        "\n",
        "\n",
        "\n"
      ]
    },
    {
      "cell_type": "code",
      "execution_count": 3,
      "metadata": {},
      "outputs": [
        {
          "name": "stdout",
          "output_type": "stream",
          "text": [
            "Faculty of Allied Health Sciences\n",
            "Faculty of Architecture\n",
            "Faculty of Arts\n",
            "Faculty of Commerce and Accountancy\n",
            "Faculty of Communication Arts\n",
            "Faculty of Dentistry\n",
            "Faculty of Economics\n",
            "Faculty of Education\n",
            "Faculty of Engineering\n",
            "Faculty of Fine and Applied Arts\n",
            "Faculty of Law\n",
            "Faculty of Medicine\n",
            "Faculty of Nursing\n",
            "Faculty of Pharmaceutical Sciences\n",
            "Faculty of Political Science\n",
            "Faculty of Psychology\n",
            "Faculty of Science\n",
            "Faculty of Sports Science\n",
            "Faculty of Veterinary Science\n",
            "Number of Faculties : 19\n"
          ]
        }
      ],
      "source": [
        "import re\n",
        "\n",
        "a_pattern = re.compile('<a href=\"[^\"]+\">[^<]*</a>')\n",
        "\n",
        "a_list = re.findall(a_pattern, html)\n",
        "\n",
        "faculty_a = list(filter(lambda s: \"Faculty\" in s, a_list))\n",
        "\n",
        "def get_faculty_name(str: str) -> str:\n",
        "    tokens = str.split(\">\")\n",
        "    tokens2 = tokens[1].split(\"<\")\n",
        "    return tokens2[0]\n",
        "\n",
        "all_faculties = tuple(map(get_faculty_name, faculty_a))\n",
        "\n",
        "for faculty in all_faculties:\n",
        "    print(faculty)\n",
        "print(f\"Number of Faculties : {len(all_faculties)}\")\n"
      ]
    },
    {
      "cell_type": "markdown",
      "metadata": {
        "id": "4J3G2YYEkMhq"
      },
      "source": [
        "# TO DO 2 : Crawl \"Faculty and Schools Image\" [21 faculties and schools] (1%)\n",
        "\n",
        "Print image's url and save image into folder 'faculty_image'\n",
        "\n",
        "#### Hint : save images into -> dir_path+\"/faculty_image\"+faculty_name\n",
        "\n",
        "<img src=\"https://github.com/pjumruspun/ComProg2021-Workshop/blob/main/Workshop-02-Scraping/images.png?raw=true\" width=600>\n",
        "\n",
        "<img src=\"https://github.com/pjumruspun/ComProg2021-Workshop/blob/main/Workshop-02-Scraping/images_dir.png?raw=true\" width=600>"
      ]
    },
    {
      "cell_type": "code",
      "execution_count": 4,
      "metadata": {
        "id": "z7XGFlJ972N3"
      },
      "outputs": [],
      "source": [
        "#สร้าง folder ชื่อ faculty_image\n",
        "\n",
        "!mkdir -p faculty_image"
      ]
    },
    {
      "cell_type": "markdown",
      "metadata": {
        "id": "6egHZ54tTMX2"
      },
      "source": [
        "### ขั้นตอนการอ่านและบันทึกไฟล์ภาพ\n",
        "\n",
        "1. อ่านภาพจากลิงค์\n",
        "* d = url.urlopen( [ลิงค์ของภาพ] )\n",
        "---\n",
        "2. สร้างไฟล์พร้อมระบุตำแหน่งที่จะเก็บไฟล์ภาพ \n",
        "* l = open( [ระบุตำแหน่งที่จะเก็บภาพ] )\n",
        "---\n",
        "\n",
        "3. บันทึกข้อมูลภาพไปยังตำแหน่งที่เก็บไฟล์ตามที่ระบุไว้ในข้อ (2.)\n",
        "* l.write(d.read())\n",
        "---\n",
        "\n",
        "4. ปิดไฟล์\n",
        "* l.close()\n",
        "---\n"
      ]
    },
    {
      "cell_type": "code",
      "execution_count": 5,
      "metadata": {
        "id": "2JSrIjIHkMhq"
      },
      "outputs": [
        {
          "name": "stdout",
          "output_type": "stream",
          "text": [
            "('https://comprogchula.github.io/image/chula-faculty-allied-health-sciences-hero-desktop-1024x640.jpg', 'https://comprogchula.github.io/image/architecture-hero-1440x900-1024x640.jpg', 'https://comprogchula.github.io/image/chula-faculty-arts-hero-desktop-1024x640.jpg', 'https://comprogchula.github.io/image/chula-faculty-commerce-and-accountancy-hero-desktop-1024x640.jpg', 'https://comprogchula.github.io/image/chula-faculty-communication-arts-hero-desktop-1024x640.jpg', 'https://comprogchula.github.io/image/chula-faculty-dentistry-hero-desktop-1024x640.jpg', 'https://comprogchula.github.io/image/chula-faculty-economics-hero-desktop-1024x640.jpg', 'https://comprogchula.github.io/image/chula-faculty-education-hero-desktop-1024x640.jpg', 'https://comprogchula.github.io/image/chula-faculty-engineering-hero-desktop-1024x640.jpg', 'https://comprogchula.github.io/image/faculty-of-fine-and-applied-arts-hero-desktop-1024x640.jpg', 'https://comprogchula.github.io/image/chula-faculty-law-hero-desktop-1024x640.jpg', 'https://comprogchula.github.io/image/chula-faculty-medicine-hero-desktop-1024x640.jpg', 'https://comprogchula.github.io/image/chula-faculty-nursing-hero-desktop-1024x640.jpg', 'https://comprogchula.github.io/image/chula-faculty-pharmaceutical-sciences-hero-desktop-01-1024x640.jpg', 'https://comprogchula.github.io/image/chula-faculty-political-science-hero-desktop-1024x640.jpg', 'https://comprogchula.github.io/image/chula-faculty-psychology-hero-desktop-1024x640.jpg', 'https://comprogchula.github.io/image/chula-faculty-science-hero-desktop-2-1024x640.jpg', 'https://comprogchula.github.io/image/chula-faculty-sports-science-hero-desktop-1024x640.jpg', 'https://comprogchula.github.io/image/chula-faculty-veterinary-science-hero-desktop-1024x640.jpg', 'https://comprogchula.github.io/image/school-of-integrated-building-1024x640.jpg', 'https://comprogchula.github.io/image/school-of-agricultural-hero-desktop-1024x640.jpg', 'https://comprogchula.github.io/image/chula-faculty-graduate-school-hero-desktop-1024x640.jpg')\n"
          ]
        }
      ],
      "source": [
        "# ---- TO DO 2 : Code Here ----\n",
        "\n",
        "img_pattern = re.compile('<img [^>]*>')\n",
        "img_list = re.findall(img_pattern, html)\n",
        "\n",
        "all_images = tuple(filter(lambda s: \"/image/\" in s, img_list))\n",
        "\n",
        "def get_main_image(str: str) -> str:\n",
        "    tokens = str.split('srcset=\"')\n",
        "    tokens2 = tokens[1].split(' ')\n",
        "    return tokens2[0]\n",
        "\n",
        "all_images_url = tuple(map(get_main_image, all_images))\n",
        "\n",
        "print(all_images_url)\n",
        "\n",
        "def save_image_from_url(url: str):\n",
        "    d = urq.urlopen(url)\n",
        "    with open(f\"{dir_path}/faculty_image/{url.split('/')[-1]}\", 'wb') as l:\n",
        "        l.write(d.read())\n",
        "        l.close()\n",
        "\n",
        "for img_url in all_images_url:\n",
        "    save_image_from_url(img_url)\n"
      ]
    },
    {
      "cell_type": "markdown",
      "metadata": {
        "id": "wu9Lq8EYm_4O"
      },
      "source": [
        "# TO DO 3 : Crawl \"Faculty Telephone Number\" [19 Faculties] (1%)\n",
        "\n",
        "Print Tel. of each faculty in Chulalongkorn University\n",
        "\n",
        "*** Only Faculty ***\n",
        "\n",
        "<img src=\"https://github.com/pjumruspun/ComProg2021-Workshop/blob/main/Workshop-02-Scraping/tel.png?raw=true\" width=450>"
      ]
    },
    {
      "cell_type": "code",
      "execution_count": 7,
      "metadata": {
        "id": "7CUSb9KvkMht"
      },
      "outputs": [
        {
          "name": "stdout",
          "output_type": "stream",
          "text": [
            "faculty-of-allied-health-sciences-chulalongkorn-university : +66 2218 1100\n",
            "faculty-of-architecture-chulalongkorn-university : +66 2218 4302\n",
            "faculty-of-arts-chulalongkorn-university : +66 2218 4886, +66 2218 4924\n",
            "faculty-of-commerce-and-accountancy-chulalongkorn-university : +66 2218 5759 – 60\n",
            "faculty-of-communication-arts-chulalongkorn-university : +66 2218 2215 ext. 0\n",
            "faculty-of-dentistry-chulalongkorn-university : +66 2218 8635\n",
            "faculty-of-economics-chulalongkorn-university : +66 2559 3638\n",
            "faculty-of-education-chulalongkorn-university : +66 2218 2565 ext. 6760\n",
            "faculty-of-engineering-chulalongkorn-university : +66 2218 6337\n",
            "faculty-of-fine-and-applied-arts-chulalongkorn-university : +66 2218 4583\n",
            "faculty-of-law-chulalongkorn-university : 0 2218 2017 ext. 204\n",
            "faculty-of-medicine-chulalongkorn-university : +66 2256 4288, +66 2256 4000 ext. 3404\n",
            "faculty-of-nursing-chulalongkorn-university : +66 2218 1131\n",
            "faculty-of-pharmaceutical-sciences-chulalongkorn-university : +66 2218 8394\n",
            "faculty-of-political-science-chulalongkorn-university : +66 2218 7250 – 3\n",
            "faculty-of-psychology-chulalongkorn-university : +66 2218 1172\n",
            "faculty-of-science-chulalongkorn-university : +66 2218 7653 – 4\n",
            "faculty-of-sports-science-chulalongkorn-university : +66 2218 1025\n",
            "faculty-of-veterinary-science-chulalongkorn-university : +66 2218 9771 – 3\n"
          ]
        }
      ],
      "source": [
        "# ---- TO DO 3 : Code Here ----\n",
        "\n",
        "def get_link_from_a_tag(str: str) -> str:\n",
        "    tokens = str.split('href=\"')\n",
        "    tokens2 = tokens[1].split('\"')\n",
        "    return tokens2[0]\n",
        "\n",
        "faculty_links = tuple(map(get_link_from_a_tag, faculty_a))\n",
        "\n",
        "tel_pattern = re.compile(\"</strong>[^<]+<\")\n",
        "\n",
        "def name_from_link(link: str) -> str:\n",
        "    return link.split('/')[-1]\n",
        "\n",
        "def mobile_from_link(url: str) -> str:\n",
        "    html = str(urq.urlopen(url).read().decode('utf-8'))\n",
        "    res = re.findall(tel_pattern, html)\n",
        "    tokens: str = res[0].split('>')[1].split('<')[0]\n",
        "    return tokens.strip()\n",
        "\n",
        "for link in faculty_links:\n",
        "    print(f\"{name_from_link(link).split('.')[0]} : {mobile_from_link(link)}\")\n"
      ]
    },
    {
      "cell_type": "markdown",
      "metadata": {
        "id": "O6qXu-BSkMhv"
      },
      "source": [
        "# TO DO 4: Crawl faculty of CP (1%)\n",
        "\n",
        "Current Faculty Members and Retired Faculty Members\n",
        "\n",
        "from https://www.cp.eng.chula.ac.th/en/about/faculty/\n",
        "\n",
        "*** Crawl only active members that have image ***\n",
        "\n",
        "**hint:** There are multiple strategies. To make it simple, we also accept a solution that list Dr. PITCHAYA as well. Another way is to check whether the image is the same filecmp.cmp https://docs.python.org/3/library/filecmp.html can do this. Or you can use if statements to exclude known exceptions.\n",
        "\n",
        "<img src=\"https://github.com/thcktw/Workshop2_Datascraping_Resource/raw/master/source/crawl_fac_member.png\" width=300>"
      ]
    },
    {
      "cell_type": "code",
      "execution_count": 18,
      "metadata": {
        "id": "DSh-mDUckMhw"
      },
      "outputs": [
        {
          "name": "stdout",
          "output_type": "stream",
          "text": [
            "PROF. DR. BOONSERM KIJSIRIKUL\n",
            "PROF. DR. PRABHAS CHONGSTITVATANA\n",
            "ASSOC. PROF. DR. ATHASIT SURARERKS\n",
            "ASSOC. PROF. DR. ATIWONG SUCHATO\n",
            "ASSOC. PROF. DR. CHOTIRAT RATANAMAHATANA\n",
            "ASSOC. PROF. DR. DUANGDAO  WICHADAKUL\n",
            "ASSOC. PROF. DR. KRERK PIROMSOPA\n",
            "ASSOC. PROF. DR. KULTIDA ROJVIBOONCHAI\n",
            "ASSOC. PROF. DR. NUTTAPONG CHENTANEZ\n",
            "ASSOC. PROF. DR. PEERAPON VATEEKUL\n",
            "ASSOC. PROF. DR. PROADPRAN PUNYABUKKANA\n",
            "ASSOC. PROF. DR. SETHA PAN-NGUM\n",
            "ASSOC. PROF. DR. TARATIP SUWANNASART\n",
            "ASSOC. PROF. DR. THANARAT CHALIDABHONGSE\n",
            "ASSOC. PROF. DR. TWITTIE SENIVONGSE\n",
            "ASSOC. PROF. DR. VISHNU KOTRAJARAS\n",
            "ASSOC. PROF. DR. WIWAT VATANAWOOD\n",
            "ASSOC. PROF. DR. YACHAI LIMPIYAKORN\n",
            "ASSOC. PROF. NAKORNTHIP PROMPOON\n",
            "ASST. PROF. DR. ARTHIT THONGTAK\n",
            "ASST. PROF. DR. ATTAWITH SUDSANG\n",
            "ASST. PROF. DR. KUNWADEE  SRIPANIDKULCHAI\n",
            "ASST. PROF. DR. NATAWUT NUPAIROJ\n",
            "ASST. PROF. DR. NATTEE NIPARNAN\n",
            "ASST. PROF. DR. PIZZANU KANONGCHAIYOS\n",
            "ASST. PROF. DR. SUKREE SINTHUPINYO\n",
            "ASST. PROF. DR. VEERA MUANGSIN\n",
            "ASST. PROF. CHATE PATANOTHAI\n",
            "DR. EKAPOL  CHUANGSUWANICH\n",
            "DR. JESSADA THUTKAWKORAPIN\n",
            "DR. NUENGWONG TUAYCHAROEN\n",
            "DR. PITCHAYA  SITTHI-AMORN\n",
            "DR. PITTIPOL  KANTAVAT\n",
            "DR. PUNNARAI  SIRICHAROEN\n",
            "THONGCHAI ROJAKANGSADAN\n"
          ]
        }
      ],
      "source": [
        "# ---- TO DO 4 : Code Here ----\n",
        "\n",
        "from typing import Iterable\n",
        "\n",
        "\n",
        "cphtml = str(urq.urlopen(\"https://www.cp.eng.chula.ac.th/en/about/faculty/\").read().decode('utf-8'))\n",
        "\n",
        "seperators = [\n",
        "    \"Current Faculty Members\",\n",
        "    \"Retired Faculty Members\",\n",
        "    \"Deceased aculty Members\"\n",
        "]\n",
        "\n",
        "def pick_between(content: str, sep1: str, sep2: str) -> str:\n",
        "    return content.split(sep1)[1].split(sep2)[0]\n",
        "\n",
        "current_faculty_html = pick_between(cphtml, seperators[0], seperators[1])\n",
        "\n",
        "member_name_pattern = re.compile(\">(.*)(DR|PROF|THONGCHAI)(.*)<\")\n",
        "\n",
        "def clean_str(item: Iterable[str]) -> str:\n",
        "    return \"\".join(item).strip().split(\"<\")[0].strip()\n",
        "\n",
        "def list_all_faculty(content: str):\n",
        "    raw_members = re.findall(member_name_pattern, content)\n",
        "\n",
        "    members = tuple(map(clean_str, raw_members))\n",
        "\n",
        "    print(\"\\n\".join(members))\n",
        "\n",
        "list_all_faculty(current_faculty_html)\n"
      ]
    },
    {
      "cell_type": "markdown",
      "metadata": {
        "id": "fmL5uX5RWp2f"
      },
      "source": [
        "# To Do 5\n",
        "\n",
        "ทดลองดึงข้อมูลจาก dek-d.com ดูสิ :)"
      ]
    },
    {
      "cell_type": "code",
      "execution_count": 29,
      "metadata": {
        "id": "6r8NQmAYkMhy"
      },
      "outputs": [],
      "source": [
        "dd_url = 'https://www.dek-d.com/home/writer/'"
      ]
    },
    {
      "cell_type": "markdown",
      "metadata": {
        "id": "kAFkUJU0YCaF"
      },
      "source": [
        "ลองรันโค๊ดบรรทัดด้านล่างดู"
      ]
    },
    {
      "cell_type": "code",
      "execution_count": 30,
      "metadata": {
        "id": "GVrU9jG0XjvF"
      },
      "outputs": [
        {
          "ename": "HTTPError",
          "evalue": "HTTP Error 403: Forbidden",
          "output_type": "error",
          "traceback": [
            "\u001b[0;31m---------------------------------------------------------------------------\u001b[0m",
            "\u001b[0;31mHTTPError\u001b[0m                                 Traceback (most recent call last)",
            "\u001b[1;32m/home/leomotors/github/Leomotors/2110101-com-prog/workshops/02-html/web-scraping.ipynb Cell 20\u001b[0m in \u001b[0;36m<cell line: 1>\u001b[0;34m()\u001b[0m\n\u001b[0;32m----> <a href='vscode-notebook-cell://wsl%2Bubuntu/home/leomotors/github/Leomotors/2110101-com-prog/workshops/02-html/web-scraping.ipynb#X24sdnNjb2RlLXJlbW90ZQ%3D%3D?line=0'>1</a>\u001b[0m html \u001b[39m=\u001b[39m \u001b[39mstr\u001b[39m(urq\u001b[39m.\u001b[39;49murlopen(dd_url)\u001b[39m.\u001b[39mread()\u001b[39m.\u001b[39mdecode(\u001b[39m'\u001b[39m\u001b[39mutf-8\u001b[39m\u001b[39m'\u001b[39m))\n",
            "File \u001b[0;32m/usr/lib/python3.8/urllib/request.py:222\u001b[0m, in \u001b[0;36murlopen\u001b[0;34m(url, data, timeout, cafile, capath, cadefault, context)\u001b[0m\n\u001b[1;32m    220\u001b[0m \u001b[39melse\u001b[39;00m:\n\u001b[1;32m    221\u001b[0m     opener \u001b[39m=\u001b[39m _opener\n\u001b[0;32m--> 222\u001b[0m \u001b[39mreturn\u001b[39;00m opener\u001b[39m.\u001b[39;49mopen(url, data, timeout)\n",
            "File \u001b[0;32m/usr/lib/python3.8/urllib/request.py:531\u001b[0m, in \u001b[0;36mOpenerDirector.open\u001b[0;34m(self, fullurl, data, timeout)\u001b[0m\n\u001b[1;32m    529\u001b[0m \u001b[39mfor\u001b[39;00m processor \u001b[39min\u001b[39;00m \u001b[39mself\u001b[39m\u001b[39m.\u001b[39mprocess_response\u001b[39m.\u001b[39mget(protocol, []):\n\u001b[1;32m    530\u001b[0m     meth \u001b[39m=\u001b[39m \u001b[39mgetattr\u001b[39m(processor, meth_name)\n\u001b[0;32m--> 531\u001b[0m     response \u001b[39m=\u001b[39m meth(req, response)\n\u001b[1;32m    533\u001b[0m \u001b[39mreturn\u001b[39;00m response\n",
            "File \u001b[0;32m/usr/lib/python3.8/urllib/request.py:640\u001b[0m, in \u001b[0;36mHTTPErrorProcessor.http_response\u001b[0;34m(self, request, response)\u001b[0m\n\u001b[1;32m    637\u001b[0m \u001b[39m# According to RFC 2616, \"2xx\" code indicates that the client's\u001b[39;00m\n\u001b[1;32m    638\u001b[0m \u001b[39m# request was successfully received, understood, and accepted.\u001b[39;00m\n\u001b[1;32m    639\u001b[0m \u001b[39mif\u001b[39;00m \u001b[39mnot\u001b[39;00m (\u001b[39m200\u001b[39m \u001b[39m<\u001b[39m\u001b[39m=\u001b[39m code \u001b[39m<\u001b[39m \u001b[39m300\u001b[39m):\n\u001b[0;32m--> 640\u001b[0m     response \u001b[39m=\u001b[39m \u001b[39mself\u001b[39;49m\u001b[39m.\u001b[39;49mparent\u001b[39m.\u001b[39;49merror(\n\u001b[1;32m    641\u001b[0m         \u001b[39m'\u001b[39;49m\u001b[39mhttp\u001b[39;49m\u001b[39m'\u001b[39;49m, request, response, code, msg, hdrs)\n\u001b[1;32m    643\u001b[0m \u001b[39mreturn\u001b[39;00m response\n",
            "File \u001b[0;32m/usr/lib/python3.8/urllib/request.py:569\u001b[0m, in \u001b[0;36mOpenerDirector.error\u001b[0;34m(self, proto, *args)\u001b[0m\n\u001b[1;32m    567\u001b[0m \u001b[39mif\u001b[39;00m http_err:\n\u001b[1;32m    568\u001b[0m     args \u001b[39m=\u001b[39m (\u001b[39mdict\u001b[39m, \u001b[39m'\u001b[39m\u001b[39mdefault\u001b[39m\u001b[39m'\u001b[39m, \u001b[39m'\u001b[39m\u001b[39mhttp_error_default\u001b[39m\u001b[39m'\u001b[39m) \u001b[39m+\u001b[39m orig_args\n\u001b[0;32m--> 569\u001b[0m     \u001b[39mreturn\u001b[39;00m \u001b[39mself\u001b[39;49m\u001b[39m.\u001b[39;49m_call_chain(\u001b[39m*\u001b[39;49margs)\n",
            "File \u001b[0;32m/usr/lib/python3.8/urllib/request.py:502\u001b[0m, in \u001b[0;36mOpenerDirector._call_chain\u001b[0;34m(self, chain, kind, meth_name, *args)\u001b[0m\n\u001b[1;32m    500\u001b[0m \u001b[39mfor\u001b[39;00m handler \u001b[39min\u001b[39;00m handlers:\n\u001b[1;32m    501\u001b[0m     func \u001b[39m=\u001b[39m \u001b[39mgetattr\u001b[39m(handler, meth_name)\n\u001b[0;32m--> 502\u001b[0m     result \u001b[39m=\u001b[39m func(\u001b[39m*\u001b[39;49margs)\n\u001b[1;32m    503\u001b[0m     \u001b[39mif\u001b[39;00m result \u001b[39mis\u001b[39;00m \u001b[39mnot\u001b[39;00m \u001b[39mNone\u001b[39;00m:\n\u001b[1;32m    504\u001b[0m         \u001b[39mreturn\u001b[39;00m result\n",
            "File \u001b[0;32m/usr/lib/python3.8/urllib/request.py:649\u001b[0m, in \u001b[0;36mHTTPDefaultErrorHandler.http_error_default\u001b[0;34m(self, req, fp, code, msg, hdrs)\u001b[0m\n\u001b[1;32m    648\u001b[0m \u001b[39mdef\u001b[39;00m \u001b[39mhttp_error_default\u001b[39m(\u001b[39mself\u001b[39m, req, fp, code, msg, hdrs):\n\u001b[0;32m--> 649\u001b[0m     \u001b[39mraise\u001b[39;00m HTTPError(req\u001b[39m.\u001b[39mfull_url, code, msg, hdrs, fp)\n",
            "\u001b[0;31mHTTPError\u001b[0m: HTTP Error 403: Forbidden"
          ]
        }
      ],
      "source": [
        "html = str(urq.urlopen(dd_url).read().decode('utf-8'))"
      ]
    },
    {
      "cell_type": "markdown",
      "metadata": {
        "id": "O9G_ZbZsYMUh"
      },
      "source": [
        "จะพบว่าเกิด error ขึ้นเนื่องจากเว็บ dek-d มีการป้องกันไว้ \n",
        "\n",
        "หากเราต้อง scrape จะต้องส่ง user-agent เช่น Web-browser, Accept-Charset, Accept-Encoding เป็นต้น เพื่อหลอกเว็บไซต์ว่าเรากำลังใช้เว็บในการ request ข้อมูลเพจ"
      ]
    },
    {
      "cell_type": "code",
      "execution_count": null,
      "metadata": {
        "id": "WeVk4zsWZLZ0"
      },
      "outputs": [],
      "source": [
        "headers={'User-Agent': 'Mozilla/5.0 (Windows; U; Windows NT 5.1; en-US; rv:1.9.0.7) Gecko/2009021910 Firefox/3.0.7'} \n",
        "\n",
        "\n",
        "dd_request = urq.Request(dd_url,None,headers) \n",
        "dd_html = str(urq.urlopen(dd_request).read().decode('utf-8'))\n",
        "\n",
        "print(dd_html)"
      ]
    },
    {
      "cell_type": "markdown",
      "metadata": {
        "id": "HNO0U9aYf0Id"
      },
      "source": [
        "ลองดึงข้อมูล title นิยายจากเว็บ https://www.dek-d.com/home/writer/ ดูสิ!!!\n",
        "\n",
        "\n",
        "#### ตัวอย่าง output \n",
        "\n",
        "<img src=\"https://github.com/Mixelon-tera/Workshop2_Datascraping_Resource/raw/master/source/dek_d_fiction.png\" width=400>"
      ]
    },
    {
      "cell_type": "code",
      "execution_count": null,
      "metadata": {
        "id": "OQjDoNJKXESX"
      },
      "outputs": [],
      "source": [
        "# ---- OPTIONAL : Code Here ----\n",
        "\n",
        "\n",
        "\n",
        "\n",
        "\n",
        "\n",
        "\n",
        "\n",
        "\n",
        "\n",
        "\n",
        "\n"
      ]
    },
    {
      "cell_type": "code",
      "execution_count": null,
      "metadata": {
        "id": "sGP98yANbpsl"
      },
      "outputs": [],
      "source": []
    }
  ],
  "metadata": {
    "colab": {
      "collapsed_sections": [],
      "name": "สำเนาของ 00_web_scraping_with_str_functions_2021",
      "provenance": []
    },
    "kernelspec": {
      "display_name": "Python 3.8.10 ('2110101-com-prog-XiWt6d0A-py3.8')",
      "language": "python",
      "name": "python3"
    },
    "language_info": {
      "codemirror_mode": {
        "name": "ipython",
        "version": 3
      },
      "file_extension": ".py",
      "mimetype": "text/x-python",
      "name": "python",
      "nbconvert_exporter": "python",
      "pygments_lexer": "ipython3",
      "version": "3.8.10"
    },
    "vscode": {
      "interpreter": {
        "hash": "c12ce307d4c8498a34f4bd2dbef351c484eb197f01f499dc9581bb4e6d81f459"
      }
    }
  },
  "nbformat": 4,
  "nbformat_minor": 0
}
